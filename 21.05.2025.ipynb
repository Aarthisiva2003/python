{
 "cells": [
  {
   "cell_type": "code",
   "execution_count": 7,
   "id": "5b600471-bc0a-439e-98af-bead7dd4a804",
   "metadata": {},
   "outputs": [
    {
     "name": "stdout",
     "output_type": "stream",
     "text": [
      "how are yom\n",
      "how a1e you\n",
      "how kre you\n"
     ]
    }
   ],
   "source": [
    "k=\"how are you\"\n",
    "k1=k.replace(\"u\",\"m\")\n",
    "k2=k.replace(\"r\",\"1\")\n",
    "s=k.replace(k[4],\"k\")\n",
    "print(k1)\n",
    "print(k2)\n",
    "print(s)\n"
   ]
  },
  {
   "cell_type": "code",
   "execution_count": 21,
   "id": "8b7a522a-ef10-4bad-b591-0f426cdb9e10",
   "metadata": {},
   "outputs": [
    {
     "name": "stdin",
     "output_type": "stream",
     "text": [
      "enter the age: -100\n"
     ]
    },
    {
     "name": "stdout",
     "output_type": "stream",
     "text": [
      "invalid\n"
     ]
    }
   ],
   "source": [
    "age=int(input(\"enter the age:\"))\n",
    "if(age>40):\n",
    "    print(\"aged\")\n",
    "if(age<0):\n",
    "    print(\"invalid\")\n",
    "elif(age<40 and age>18):\n",
    "    print(\"adult\")\n",
    "else:\n",
    "    print(\"child\")"
   ]
  },
  {
   "cell_type": "code",
   "execution_count": null,
   "id": "cfe7f96f-740f-4825-8685-e3fe1443f77b",
   "metadata": {},
   "outputs": [],
   "source": []
  }
 ],
 "metadata": {
  "kernelspec": {
   "display_name": "Python 3 (ipykernel)",
   "language": "python",
   "name": "python3"
  },
  "language_info": {
   "codemirror_mode": {
    "name": "ipython",
    "version": 3
   },
   "file_extension": ".py",
   "mimetype": "text/x-python",
   "name": "python",
   "nbconvert_exporter": "python",
   "pygments_lexer": "ipython3",
   "version": "3.12.7"
  }
 },
 "nbformat": 4,
 "nbformat_minor": 5
}
