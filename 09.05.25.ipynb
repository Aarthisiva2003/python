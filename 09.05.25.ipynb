{
 "cells": [
  {
   "cell_type": "code",
   "execution_count": null,
   "id": "f4ca3fab-6c65-4f43-a107-bffcca2f8f5b",
   "metadata": {},
   "outputs": [],
   "source": []
  },
  {
   "cell_type": "code",
   "execution_count": 2,
   "id": "f628aeb6-9a77-41cf-a387-103bacda6650",
   "metadata": {},
   "outputs": [
    {
     "data": {
      "text/plain": [
       "'3.12.7 | packaged by Anaconda, Inc. | (main, Oct  4 2024, 13:17:27) [MSC v.1929 64 bit (AMD64)]'"
      ]
     },
     "execution_count": 2,
     "metadata": {},
     "output_type": "execute_result"
    }
   ],
   "source": [
    "import sys\n",
    "sys.version"
   ]
  },
  {
   "cell_type": "code",
   "execution_count": null,
   "id": "496f4623-9387-42d9-a0c7-36b52f918b08",
   "metadata": {},
   "outputs": [],
   "source": [
    "#pandas\n",
    "import matplotlip as plt\n",
    "import numpy as np\n",
    "x=np.array([])\n",
    "y=np.array([])"
   ]
  },
  {
   "cell_type": "code",
   "execution_count": 3,
   "id": "734906f0-d449-4c16-b9c9-3747081e446c",
   "metadata": {},
   "outputs": [
    {
     "ename": "SyntaxError",
     "evalue": "unmatched ']' (3326959378.py, line 9)",
     "output_type": "error",
     "traceback": [
      "\u001b[1;36m  Cell \u001b[1;32mIn[3], line 9\u001b[1;36m\u001b[0m\n\u001b[1;33m    print(d1,\"direct2\")]\u001b[0m\n\u001b[1;37m                       ^\u001b[0m\n\u001b[1;31mSyntaxError\u001b[0m\u001b[1;31m:\u001b[0m unmatched ']'\n"
     ]
    }
   ],
   "source": [
    "k=\"silent\"\n",
    "d={}\n",
    "for i in k:\n",
    "    if i in d:\n",
    "        d[i]+=1\n",
    "    else\n",
    "        d1[i]=1\n",
    "        print(d,\"direct1\")\n",
    "        print(d1,\"direct2\")]\n",
    "        if d==d1\n",
    "           is anagram\n",
    "        \n",
    "        \n",
    "        "
   ]
  },
  {
   "cell_type": "code",
   "execution_count": null,
   "id": "46e9656b-cc34-4ba1-ba91-de43a934768b",
   "metadata": {},
   "outputs": [],
   "source": []
  }
 ],
 "metadata": {
  "kernelspec": {
   "display_name": "Python 3 (ipykernel)",
   "language": "python",
   "name": "python3"
  },
  "language_info": {
   "codemirror_mode": {
    "name": "ipython",
    "version": 3
   },
   "file_extension": ".py",
   "mimetype": "text/x-python",
   "name": "python",
   "nbconvert_exporter": "python",
   "pygments_lexer": "ipython3",
   "version": "3.12.7"
  }
 },
 "nbformat": 4,
 "nbformat_minor": 5
}
